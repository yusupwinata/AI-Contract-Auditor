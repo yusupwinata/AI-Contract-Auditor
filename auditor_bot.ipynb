{
 "cells": [
  {
   "cell_type": "markdown",
   "id": "d206315c-0cfe-49fd-81e7-6d45aa7b5b7e",
   "metadata": {},
   "source": [
    "# AI Contract Auditor"
   ]
  },
  {
   "cell_type": "markdown",
   "id": "7de08816-f858-445a-ba1f-e0dcf27be7ca",
   "metadata": {},
   "source": [
    "# Initial Setup"
   ]
  },
  {
   "cell_type": "code",
   "execution_count": 1,
   "id": "10b8af02-cf25-42b5-b900-e791610aa48f",
   "metadata": {},
   "outputs": [],
   "source": [
    "import os\n",
    "import shutil\n",
    "import fitz\n",
    "import gradio as gr\n",
    "from dotenv import load_dotenv\n",
    "from openai import OpenAI"
   ]
  },
  {
   "cell_type": "code",
   "execution_count": 2,
   "id": "4310d2fd-39dd-4395-bf02-aa944d76176b",
   "metadata": {},
   "outputs": [],
   "source": [
    "ABSOLUTE_PATH = os.path.abspath(os.getcwd())\n",
    "PDF_DIR = os.path.join(ABSOLUTE_PATH, \"pdf\")\n",
    "PROMPT_DIR = os.path.join(ABSOLUTE_PATH, \"prompts\")\n",
    "\n",
    "PDF_PATH = os.path.join(PDF_DIR, \"document.pdf\")\n",
    "SYSTEM_PROMPT_PATH = os.path.join(PROMPT_DIR, \"system_prompt.txt\")\n",
    "CLEANING_SYSTEM_PROMPT_PATH = os.path.join(PROMPT_DIR, \"cleaning_system_prompt.txt\")\n",
    "\n",
    "if not os.path.exists(PDF_DIR):\n",
    "    os.makedirs(PDF_DIR)\n",
    "    print(f\"{PDF_DIR} created.\")\n",
    "\n",
    "if not os.path.exists(PROMPT_DIR):\n",
    "    os.makedirs(PROMPT_DIR)\n",
    "    print(f\"{PROMPT_DIR} created.\")"
   ]
  },
  {
   "cell_type": "code",
   "execution_count": 3,
   "id": "2e6a434b-e486-43e3-b8bd-62b5b4c4fa43",
   "metadata": {},
   "outputs": [],
   "source": [
    "load_dotenv(override=True)\n",
    "\n",
    "# API Keys\n",
    "OLLAMA_API_KEY = \"ollama\"\n",
    "OPENAI_API_KEY = os.getenv(\"OPENAI_API_KEY\", \"type-your-api-key-here\")\n",
    "GOOGLE_API_KEY = os.getenv(\"GOOGLE_API_KEY\", \"type-your-api-key-here\")\n",
    "\n",
    "# BASE URL\n",
    "OLLAMA_BASE_URL = \"http://localhost:11434/v1\"\n",
    "GOOGLE_BASE_URL = \"https://generativelanguage.googleapis.com/v1beta/openai/\"\n",
    "\n",
    "# Client\n",
    "ollama_client = OpenAI(api_key=OLLAMA_API_KEY, base_url=OLLAMA_BASE_URL)\n",
    "openai_client = OpenAI()\n",
    "google_client = OpenAI(api_key=GOOGLE_API_KEY, base_url=GOOGLE_BASE_URL)\n",
    "\n",
    "# Models\n",
    "llama = \"llama3.2\"\n",
    "gpt = \"gpt-4o-mini\"\n",
    "gemini = \"models/gemini-2.0-flash\""
   ]
  },
  {
   "cell_type": "markdown",
   "id": "1bc0a493-a0a5-4f76-b2cc-d84fd5486ff2",
   "metadata": {},
   "source": [
    "# Prompting"
   ]
  },
  {
   "cell_type": "code",
   "execution_count": 4,
   "id": "4ae3ae2a-593b-4459-8ddc-c1fa3cd778bc",
   "metadata": {},
   "outputs": [],
   "source": [
    "def get_system_prompt(system_prompt_path: str) -> str:\n",
    "    with open(system_prompt_path, \"r\") as f:\n",
    "        system_prompt = f.read()\n",
    "    return system_prompt\n",
    "\n",
    "# Cleaning text\n",
    "def generate_cleaning_user_prompt(language: str, contract: str) -> str:\n",
    "    user_prompt = f\"Instructions: Remove headers/footers/page numbers and extract only {language} content. Preserve all contract terms and structure.\\n\"\n",
    "    user_prompt += f\"Target Language: {language}\\n\"\n",
    "    user_prompt += f\"Raw Contract:\\n{contract}\"\n",
    "    return user_prompt\n",
    "\n",
    "def generate_cleaning_messages(language: str, contract: str) -> str:\n",
    "    return [\n",
    "        {\"role\": \"system\", \"content\": get_system_prompt(CLEANING_SYSTEM_PROMPT_PATH)},\n",
    "        {\"role\": \"user\", \"content\": generate_cleaning_user_prompt(language, contract)}\n",
    "    ]\n",
    "\n",
    "# Analyze text\n",
    "def generate_user_prompt(job_title: str, industry :str, location :str, language: str, contract: str) -> str:\n",
    "    user_prompt = f\"Position: {job_title} | Industry: {industry} | Location: {location}\\n\"\n",
    "    user_prompt += f\"Target Language: {language}\\n\"\n",
    "    user_prompt += f\"CONTRACT:\\n{contract}\"\n",
    "    return user_prompt\n",
    "\n",
    "def generate_messages(job_title: str, industry :str, location :str, language: str, contract: str) -> list:\n",
    "    return [\n",
    "        {\"role\": \"system\", \"content\": get_system_prompt(SYSTEM_PROMPT_PATH)},\n",
    "        {\"role\": \"user\", \"content\": generate_user_prompt(job_title, industry, location, language, contract)}\n",
    "    ]"
   ]
  },
  {
   "cell_type": "code",
   "execution_count": 5,
   "id": "17f9b401-daf2-43ee-a511-c0337a23beeb",
   "metadata": {},
   "outputs": [
    {
     "name": "stdout",
     "output_type": "stream",
     "text": [
      "Instructions: Remove headers/footers/page numbers and extract only Bahasa Indonesia content. Preserve all contract terms and structure.\n",
      "Target Language: Bahasa Indonesia\n",
      "Raw Contract:\n",
      "This is contract\n"
     ]
    }
   ],
   "source": [
    "# Testing\n",
    "test = generate_cleaning_messages(\n",
    "    language=\"Bahasa Indonesia\",\n",
    "    contract=\"This is contract\"\n",
    ")\n",
    "print(test[1]['content'])"
   ]
  },
  {
   "cell_type": "code",
   "execution_count": 6,
   "id": "a1b897f1-b9fa-4102-b6e0-1e5388e9dcbf",
   "metadata": {},
   "outputs": [
    {
     "name": "stdout",
     "output_type": "stream",
     "text": [
      "Position: ML Engineer | Industry: Technology | Location: Jakarta, Indonesia\n",
      "Target Language: Bahasa Indonesia\n",
      "CONTRACT:\n",
      "This is contract\n"
     ]
    }
   ],
   "source": [
    "# Testing\n",
    "test = generate_messages(\n",
    "    job_title=\"ML Engineer\",\n",
    "    industry=\"Technology\",\n",
    "    location=\"Jakarta, Indonesia\",\n",
    "    language=\"Bahasa Indonesia\",\n",
    "    contract=\"This is contract\"\n",
    ")\n",
    "print(test[1]['content'])"
   ]
  },
  {
   "cell_type": "markdown",
   "id": "b926ec0e-005d-4d2e-a1cd-5ea0b43c3fac",
   "metadata": {},
   "source": [
    "# Processing"
   ]
  },
  {
   "cell_type": "markdown",
   "id": "af312723-4220-400a-a36a-01dc804f62b1",
   "metadata": {},
   "source": [
    "## Extracting"
   ]
  },
  {
   "cell_type": "code",
   "execution_count": 7,
   "id": "138dcc29-0f51-401e-b4c9-810cfc1330cd",
   "metadata": {},
   "outputs": [],
   "source": [
    "def save_pdf(pdf, target_path: str=PDF_PATH):\n",
    "    if not pdf:\n",
    "        raise ValueError(\"No PDF uploaded.\")\n",
    "    if not os.path.exists(pdf):\n",
    "        raise ValueError(\"PDF does not exist in internal directory.\")\n",
    "    try:\n",
    "        shutil.move(pdf, target_path)\n",
    "    except Exception as e:\n",
    "        raise RuntimeError(f\"Error: Failed to save PDF: {str(e)}\")\n",
    "\n",
    "def extract_pdf(pdf_path: str=PDF_PATH):\n",
    "    try:\n",
    "        with fitz.open(pdf_path) as doc:\n",
    "            text_per_page = []\n",
    "            for page in doc:\n",
    "                text = page.get_text()\n",
    "                text_per_page.append(text)\n",
    "\n",
    "            return text_per_page\n",
    "            \n",
    "    except Exception as e:\n",
    "        return f\"Error reading PDF: {str(e)}\""
   ]
  },
  {
   "cell_type": "code",
   "execution_count": 8,
   "id": "dcffe386-eaba-4560-a089-468ecb071d60",
   "metadata": {},
   "outputs": [],
   "source": [
    "# Testing\n",
    "# test = extract_pdf(\"D:/Learn/LLM/llm_engineering/week4/pdf/pkwt.pdf\")\n",
    "# print(test)"
   ]
  },
  {
   "cell_type": "markdown",
   "id": "4df6e195-d531-4dee-855d-5d4c82a55c51",
   "metadata": {},
   "source": [
    "## Cleaning"
   ]
  },
  {
   "cell_type": "code",
   "execution_count": 9,
   "id": "92e2479d-b27c-4f0a-b97b-9bc5de2a1232",
   "metadata": {},
   "outputs": [],
   "source": [
    "def clean_contract(language: str, raw_contract: str) -> str:\n",
    "    cleaning_messages = generate_cleaning_messages(language, raw_contract)\n",
    "    response = openai_client.chat.completions.create(\n",
    "        model=gpt,\n",
    "        messages=cleaning_messages,\n",
    "        temperature=0\n",
    "    )\n",
    "    return response.choices[0].message.content"
   ]
  },
  {
   "cell_type": "code",
   "execution_count": 20,
   "id": "16a2fed9-26a0-4d7f-9a27-7bea6bf4a4b6",
   "metadata": {},
   "outputs": [
    {
     "data": {
      "text/plain": [
       "'PIHAK PERTAMA berkewajiban untuk melakukan\\npembayaran gaji kepada PIHAK KEDUA dengan\\nketentuan gaji dihitung dan diberikan kepada PIHAK\\nKEDUA pada hari kerja setiap awal bulan maksimal\\ndibayarkan pada tanggal 1 setiap bulannya.'"
      ]
     },
     "execution_count": 20,
     "metadata": {},
     "output_type": "execute_result"
    }
   ],
   "source": [
    "# Testing\n",
    "# clean_contract(\n",
    "#     \"Bahasa Indonesia\",\n",
    "#     raw_contract=\"\"\"\n",
    "#     PIHAK PERTAMA berkewajiban untuk melakukan\n",
    "# pembayaran gaji kepada PIHAK KEDUA dengan\n",
    "# ketentuan gaji dihitung dan diberikan kepada PIHAK\n",
    "# KEDUA pada hari kerja setiap awal bulan maksimal\n",
    "# dibayarkan pada tanggal 1 setiap bulannya.\n",
    "\n",
    "# The FIRST PARTY is obliged to make payment of\n",
    "# salaries to the SECOND PARTY provided that the\n",
    "# salary is calculated and given to the SECOND PARTY\n",
    "# on the working day of the beginning of each month,\n",
    "# the maximum is paid on the 1\n",
    "# st of each month.\n",
    "#     \"\"\"\n",
    "# )"
   ]
  },
  {
   "cell_type": "markdown",
   "id": "fd153512-70ef-4862-b818-3b7fa7045c34",
   "metadata": {},
   "source": [
    "## Analyzing"
   ]
  },
  {
   "cell_type": "code",
   "execution_count": 10,
   "id": "0fca534f-154d-4cfd-b677-8f40eb83988d",
   "metadata": {},
   "outputs": [],
   "source": [
    "def analyze_contract(job_title: str, industry: str, location: str, language: str, contract: str) -> str:\n",
    "    messages = generate_messages(job_title, industry, location, language, contract)\n",
    "    response = openai_client.chat.completions.create(\n",
    "        model=gpt,\n",
    "        messages=messages,\n",
    "        temperature=0.2\n",
    "    )\n",
    "    return response.choices[0].message.content"
   ]
  },
  {
   "cell_type": "markdown",
   "id": "862b71ea-3f28-430f-932f-dcad9c068174",
   "metadata": {},
   "source": [
    "## Wrap-Up"
   ]
  },
  {
   "cell_type": "code",
   "execution_count": 11,
   "id": "6e0dfa58-d143-4263-b660-a289f8c4bd0e",
   "metadata": {},
   "outputs": [],
   "source": [
    "def process_pdf(job_title: str, industry: str, location: str, language: str, pdf: str):\n",
    "    try:\n",
    "        if not job_title or not industry or not location:\n",
    "            raise ValueError(\"Please fill in your job title, industry and work location first.\")\n",
    "\n",
    "        # Save uploaded pdf locally\n",
    "        save_pdf(pdf)\n",
    "        \n",
    "        # Extract contract from pdf\n",
    "        raw_contract = extract_pdf()\n",
    "        if not raw_contract:\n",
    "            raise ValueError(\"The pdf is empty.\")\n",
    "        \n",
    "        # Clean contract\n",
    "        try:\n",
    "            contract = clean_contract(language, raw_contract)\n",
    "        except Exception as e:\n",
    "            raise ValueError(f\"Failed to clean your employment contract - {str(e)}\")\n",
    "        \n",
    "        # Analyze contract\n",
    "        try:\n",
    "            analysis_result = analyze_contract(job_title, industry, location, language, contract)\n",
    "        except Exception as e:\n",
    "            raise ValueError(f\"Failed to analyze your employment contract - {str(e)}\")\n",
    "        \n",
    "        return analysis_result\n",
    "        \n",
    "    except Exception as e:\n",
    "        return f\"Error: {str(e)}\"\n",
    "\n",
    "\n",
    "def process_text(job_title: str, industry: str, location: str, language: str, text: str):\n",
    "    try:\n",
    "        if not job_title or not industry or not location:\n",
    "            raise ValueError(\"Please fill in your job title, industry and work location first.\")\n",
    "        if not text:\n",
    "            raise ValueError(\"Please paste your employment contract first.\")\n",
    "        \n",
    "        # Clean contract\n",
    "        try:\n",
    "            contract = clean_contract(language, text)\n",
    "        except Exception as e:\n",
    "            raise ValueError(f\"Failed to clean your employment contract - {str(e)}\")\n",
    "        \n",
    "        # Analyze text\n",
    "        try:\n",
    "            analysis_result = analyze_contract(job_title, industry, location, contract)\n",
    "        except Exception as e:\n",
    "            raise ValueError(f\"Failed to analyze your employment contract - {str(e)}\")\n",
    "        \n",
    "        return analysis_result\n",
    "        \n",
    "    except Exception as e:\n",
    "        return f\"Error: {str(e)}\""
   ]
  },
  {
   "cell_type": "markdown",
   "id": "84e45be4-ce6e-44b0-bc42-61d1128b32da",
   "metadata": {},
   "source": [
    "# UI"
   ]
  },
  {
   "cell_type": "code",
   "execution_count": 12,
   "id": "eb7647df-0abf-4c06-a211-d655ba1c5cd2",
   "metadata": {
    "scrolled": true
   },
   "outputs": [
    {
     "name": "stdout",
     "output_type": "stream",
     "text": [
      "* Running on local URL:  http://127.0.0.1:7860\n",
      "* To create a public link, set `share=True` in `launch()`.\n"
     ]
    },
    {
     "data": {
      "text/html": [
       "<div><iframe src=\"http://127.0.0.1:7860/\" width=\"100%\" height=\"500\" allow=\"autoplay; camera; microphone; clipboard-read; clipboard-write;\" frameborder=\"0\" allowfullscreen></iframe></div>"
      ],
      "text/plain": [
       "<IPython.core.display.HTML object>"
      ]
     },
     "metadata": {},
     "output_type": "display_data"
    },
    {
     "data": {
      "text/plain": []
     },
     "execution_count": 12,
     "metadata": {},
     "output_type": "execute_result"
    }
   ],
   "source": [
    "def add_br():\n",
    "    gr.Markdown(\"<br>\")\n",
    "\n",
    "with gr.Blocks() as demo:\n",
    "    add_br()\n",
    "    with gr.Row():\n",
    "        with gr.Column():\n",
    "            gr.Markdown(\"# AI Contract Auditor\")\n",
    "            gr.Markdown(\"### An AI-powered app to analyze and review your employment contract.\")\n",
    "            gr.Markdown(\"**Note:** This app only provide informational analysis, not legal advice. Complex situations require professional legal consultation.\")\n",
    "    add_br()\n",
    "    with gr.Row():\n",
    "        with gr.Column():\n",
    "            with gr.Column():\n",
    "                job_title = gr.Textbox(label=\"Job Title\", placeholder=\"E.g. Director, Manager, Staff\")\n",
    "                industry = gr.Textbox(label=\"Industry\", placeholder=\"E.g. Technology, Financial, Education\")\n",
    "                location = gr.Textbox(label=\"Location\", placeholder=\"E.g. Jakarta, Indonesia; New York, US; Tokyo, Japan\")\n",
    "\n",
    "            with gr.Column():\n",
    "                doc_type = gr.Dropdown([\"PDF\", \"Text\"], value=\"PDF\", label=\"Document type\", interactive=True)\n",
    "                language = gr.Dropdown([\"English\", \"Bahasa Indonesia\"], value=\"English\", label=\"Language\", interactive=True)\n",
    "            \n",
    "            with gr.Column(visible=True) as pdf_input:\n",
    "                pdf = gr.File(label=\"Upload your employment contract (.pdf)\", file_types=[\".pdf\"], type=\"filepath\")\n",
    "                \n",
    "            with gr.Column(visible=False) as text_input:\n",
    "                text = gr.Textbox(label=\"Paste your employment contract\", lines=10)\n",
    "                \n",
    "            submit_btn = gr.Button(\"Analysis\")\n",
    "        with gr.Column():\n",
    "            result = gr.Text(label=\"Analysis results\", lines=35, show_copy_button=True)\n",
    "\n",
    "    # Update UI\n",
    "    def update_ui(doc_type):\n",
    "        return (\n",
    "            gr.update(visible=doc_type == \"PDF\"),\n",
    "            gr.update(visible=doc_type == \"Text\"),\n",
    "            \"\"\n",
    "        )\n",
    "        \n",
    "    doc_type.change(\n",
    "        fn=update_ui,\n",
    "        inputs=doc_type,\n",
    "        outputs=[pdf_input, text_input, result]\n",
    "    )\n",
    "    \n",
    "    # Analyze\n",
    "    def analyze(job_title: str, industry: str, location: str, doc_type: str, language: str, pdf: str, text: str):\n",
    "        if doc_type == \"PDF\":\n",
    "            return process_pdf(job_title, industry, location, language, pdf)\n",
    "        elif doc_type == \"Text\":\n",
    "            return process_text(job_title, industry, location, language, text)\n",
    "        else:\n",
    "            return \"Unknown input type.\"\n",
    "            \n",
    "    submit_btn.click(\n",
    "        fn=analyze,\n",
    "        inputs=[job_title, industry, location, doc_type, language, pdf, text],\n",
    "        outputs=result\n",
    "    )\n",
    "    \n",
    "demo.launch()"
   ]
  },
  {
   "cell_type": "code",
   "execution_count": null,
   "id": "7d68f5c4-2a11-4494-b605-b67c89579398",
   "metadata": {},
   "outputs": [],
   "source": []
  }
 ],
 "metadata": {
  "kernelspec": {
   "display_name": "hugface",
   "language": "python",
   "name": "hugface"
  },
  "language_info": {
   "codemirror_mode": {
    "name": "ipython",
    "version": 3
   },
   "file_extension": ".py",
   "mimetype": "text/x-python",
   "name": "python",
   "nbconvert_exporter": "python",
   "pygments_lexer": "ipython3",
   "version": "3.11.11"
  }
 },
 "nbformat": 4,
 "nbformat_minor": 5
}
